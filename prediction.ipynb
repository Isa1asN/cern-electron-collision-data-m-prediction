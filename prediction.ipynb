{
 "cells": [
  {
   "cell_type": "code",
   "execution_count": 2,
   "metadata": {},
   "outputs": [],
   "source": [
    "import pandas as pd\n",
    "import numpy as np\n",
    "import matplotlib.pyplot as plt\n",
    "import tensorflow as tf\n",
    "from tensorflow.keras import Sequential\n",
    "from tensorflow.keras.layers import Dense\n",
    "from tensorflow.keras.losses import MeanAbsoluteError\n",
    "from tensorflow.keras.optimizers import Adam\n",
    "from sklearn.model_selection import train_test_split\n",
    "from sklearn.metrics import mean_absolute_error\n",
    "from sklearn.preprocessing import StandardScaler\n"
   ]
  },
  {
   "cell_type": "code",
   "execution_count": 3,
   "metadata": {},
   "outputs": [],
   "source": [
    "data = pd.read_csv('dielectron.csv')"
   ]
  },
  {
   "cell_type": "code",
   "execution_count": 4,
   "metadata": {},
   "outputs": [
    {
     "data": {
      "text/html": [
       "<div>\n",
       "<style scoped>\n",
       "    .dataframe tbody tr th:only-of-type {\n",
       "        vertical-align: middle;\n",
       "    }\n",
       "\n",
       "    .dataframe tbody tr th {\n",
       "        vertical-align: top;\n",
       "    }\n",
       "\n",
       "    .dataframe thead th {\n",
       "        text-align: right;\n",
       "    }\n",
       "</style>\n",
       "<table border=\"1\" class=\"dataframe\">\n",
       "  <thead>\n",
       "    <tr style=\"text-align: right;\">\n",
       "      <th></th>\n",
       "      <th>Run</th>\n",
       "      <th>Event</th>\n",
       "      <th>E1</th>\n",
       "      <th>px1</th>\n",
       "      <th>py1</th>\n",
       "      <th>pz1</th>\n",
       "      <th>pt1</th>\n",
       "      <th>eta1</th>\n",
       "      <th>phi1</th>\n",
       "      <th>Q1</th>\n",
       "      <th>E2</th>\n",
       "      <th>px2</th>\n",
       "      <th>py2</th>\n",
       "      <th>pz2</th>\n",
       "      <th>pt2</th>\n",
       "      <th>eta2</th>\n",
       "      <th>phi2</th>\n",
       "      <th>Q2</th>\n",
       "      <th>M</th>\n",
       "    </tr>\n",
       "  </thead>\n",
       "  <tbody>\n",
       "    <tr>\n",
       "      <th>0</th>\n",
       "      <td>147115</td>\n",
       "      <td>366639895</td>\n",
       "      <td>58.71410</td>\n",
       "      <td>-7.31132</td>\n",
       "      <td>10.531000</td>\n",
       "      <td>-57.29740</td>\n",
       "      <td>12.82020</td>\n",
       "      <td>-2.20267</td>\n",
       "      <td>2.17766</td>\n",
       "      <td>1</td>\n",
       "      <td>11.2836</td>\n",
       "      <td>-1.032340</td>\n",
       "      <td>-1.88066</td>\n",
       "      <td>-11.0778</td>\n",
       "      <td>2.14537</td>\n",
       "      <td>-2.344030</td>\n",
       "      <td>-2.072810</td>\n",
       "      <td>-1</td>\n",
       "      <td>8.94841</td>\n",
       "    </tr>\n",
       "    <tr>\n",
       "      <th>1</th>\n",
       "      <td>147115</td>\n",
       "      <td>366704169</td>\n",
       "      <td>6.61188</td>\n",
       "      <td>-4.15213</td>\n",
       "      <td>-0.579855</td>\n",
       "      <td>-5.11278</td>\n",
       "      <td>4.19242</td>\n",
       "      <td>-1.02842</td>\n",
       "      <td>-3.00284</td>\n",
       "      <td>-1</td>\n",
       "      <td>17.1492</td>\n",
       "      <td>-11.713500</td>\n",
       "      <td>5.04474</td>\n",
       "      <td>11.4647</td>\n",
       "      <td>12.75360</td>\n",
       "      <td>0.808077</td>\n",
       "      <td>2.734920</td>\n",
       "      <td>1</td>\n",
       "      <td>15.89300</td>\n",
       "    </tr>\n",
       "    <tr>\n",
       "      <th>2</th>\n",
       "      <td>147115</td>\n",
       "      <td>367112316</td>\n",
       "      <td>25.54190</td>\n",
       "      <td>-11.48090</td>\n",
       "      <td>2.041680</td>\n",
       "      <td>22.72460</td>\n",
       "      <td>11.66100</td>\n",
       "      <td>1.42048</td>\n",
       "      <td>2.96560</td>\n",
       "      <td>1</td>\n",
       "      <td>15.8203</td>\n",
       "      <td>-1.472800</td>\n",
       "      <td>2.25895</td>\n",
       "      <td>-15.5888</td>\n",
       "      <td>2.69667</td>\n",
       "      <td>-2.455080</td>\n",
       "      <td>2.148570</td>\n",
       "      <td>1</td>\n",
       "      <td>38.38770</td>\n",
       "    </tr>\n",
       "    <tr>\n",
       "      <th>3</th>\n",
       "      <td>147115</td>\n",
       "      <td>366952149</td>\n",
       "      <td>65.39590</td>\n",
       "      <td>7.51214</td>\n",
       "      <td>11.887100</td>\n",
       "      <td>63.86620</td>\n",
       "      <td>14.06190</td>\n",
       "      <td>2.21838</td>\n",
       "      <td>1.00721</td>\n",
       "      <td>1</td>\n",
       "      <td>25.1273</td>\n",
       "      <td>4.087860</td>\n",
       "      <td>2.59641</td>\n",
       "      <td>24.6563</td>\n",
       "      <td>4.84272</td>\n",
       "      <td>2.330210</td>\n",
       "      <td>0.565865</td>\n",
       "      <td>-1</td>\n",
       "      <td>3.72862</td>\n",
       "    </tr>\n",
       "    <tr>\n",
       "      <th>4</th>\n",
       "      <td>147115</td>\n",
       "      <td>366523212</td>\n",
       "      <td>61.45040</td>\n",
       "      <td>2.95284</td>\n",
       "      <td>-14.622700</td>\n",
       "      <td>-59.61210</td>\n",
       "      <td>14.91790</td>\n",
       "      <td>-2.09375</td>\n",
       "      <td>-1.37154</td>\n",
       "      <td>-1</td>\n",
       "      <td>13.8871</td>\n",
       "      <td>-0.277757</td>\n",
       "      <td>-2.42560</td>\n",
       "      <td>-13.6708</td>\n",
       "      <td>2.44145</td>\n",
       "      <td>-2.423700</td>\n",
       "      <td>-1.684810</td>\n",
       "      <td>-1</td>\n",
       "      <td>2.74718</td>\n",
       "    </tr>\n",
       "  </tbody>\n",
       "</table>\n",
       "</div>"
      ],
      "text/plain": [
       "      Run      Event        E1      px1         py1       pz1       pt1   \n",
       "0  147115  366639895  58.71410  -7.31132  10.531000 -57.29740  12.82020  \\\n",
       "1  147115  366704169   6.61188  -4.15213  -0.579855  -5.11278   4.19242   \n",
       "2  147115  367112316  25.54190 -11.48090   2.041680  22.72460  11.66100   \n",
       "3  147115  366952149  65.39590   7.51214  11.887100  63.86620  14.06190   \n",
       "4  147115  366523212  61.45040   2.95284 -14.622700 -59.61210  14.91790   \n",
       "\n",
       "      eta1     phi1  Q1       E2        px2      py2      pz2       pt2   \n",
       "0 -2.20267  2.17766   1  11.2836  -1.032340 -1.88066 -11.0778   2.14537  \\\n",
       "1 -1.02842 -3.00284  -1  17.1492 -11.713500  5.04474  11.4647  12.75360   \n",
       "2  1.42048  2.96560   1  15.8203  -1.472800  2.25895 -15.5888   2.69667   \n",
       "3  2.21838  1.00721   1  25.1273   4.087860  2.59641  24.6563   4.84272   \n",
       "4 -2.09375 -1.37154  -1  13.8871  -0.277757 -2.42560 -13.6708   2.44145   \n",
       "\n",
       "       eta2      phi2  Q2         M  \n",
       "0 -2.344030 -2.072810  -1   8.94841  \n",
       "1  0.808077  2.734920   1  15.89300  \n",
       "2 -2.455080  2.148570   1  38.38770  \n",
       "3  2.330210  0.565865  -1   3.72862  \n",
       "4 -2.423700 -1.684810  -1   2.74718  "
      ]
     },
     "execution_count": 4,
     "metadata": {},
     "output_type": "execute_result"
    }
   ],
   "source": [
    "data.head()"
   ]
  },
  {
   "cell_type": "code",
   "execution_count": 5,
   "metadata": {},
   "outputs": [
    {
     "data": {
      "text/html": [
       "<div>\n",
       "<style scoped>\n",
       "    .dataframe tbody tr th:only-of-type {\n",
       "        vertical-align: middle;\n",
       "    }\n",
       "\n",
       "    .dataframe tbody tr th {\n",
       "        vertical-align: top;\n",
       "    }\n",
       "\n",
       "    .dataframe thead th {\n",
       "        text-align: right;\n",
       "    }\n",
       "</style>\n",
       "<table border=\"1\" class=\"dataframe\">\n",
       "  <thead>\n",
       "    <tr style=\"text-align: right;\">\n",
       "      <th></th>\n",
       "      <th>Run</th>\n",
       "      <th>Event</th>\n",
       "      <th>E1</th>\n",
       "      <th>px1</th>\n",
       "      <th>py1</th>\n",
       "      <th>pz1</th>\n",
       "      <th>pt1</th>\n",
       "      <th>eta1</th>\n",
       "      <th>phi1</th>\n",
       "      <th>Q1</th>\n",
       "      <th>E2</th>\n",
       "      <th>px2</th>\n",
       "      <th>py2</th>\n",
       "      <th>pz2</th>\n",
       "      <th>pt2</th>\n",
       "      <th>eta2</th>\n",
       "      <th>phi2</th>\n",
       "      <th>Q2</th>\n",
       "      <th>M</th>\n",
       "    </tr>\n",
       "  </thead>\n",
       "  <tbody>\n",
       "    <tr>\n",
       "      <th>count</th>\n",
       "      <td>100000.000000</td>\n",
       "      <td>1.000000e+05</td>\n",
       "      <td>100000.000000</td>\n",
       "      <td>100000.000000</td>\n",
       "      <td>100000.000000</td>\n",
       "      <td>100000.000000</td>\n",
       "      <td>100000.000000</td>\n",
       "      <td>100000.000000</td>\n",
       "      <td>100000.000000</td>\n",
       "      <td>100000.00000</td>\n",
       "      <td>100000.000000</td>\n",
       "      <td>100000.000000</td>\n",
       "      <td>100000.000000</td>\n",
       "      <td>100000.000000</td>\n",
       "      <td>100000.000000</td>\n",
       "      <td>100000.000000</td>\n",
       "      <td>100000.000000</td>\n",
       "      <td>100000.000000</td>\n",
       "      <td>99915.000000</td>\n",
       "    </tr>\n",
       "    <tr>\n",
       "      <th>mean</th>\n",
       "      <td>147935.327230</td>\n",
       "      <td>4.957212e+08</td>\n",
       "      <td>36.436466</td>\n",
       "      <td>0.135897</td>\n",
       "      <td>0.182291</td>\n",
       "      <td>-1.508037</td>\n",
       "      <td>14.412167</td>\n",
       "      <td>-0.064095</td>\n",
       "      <td>0.021614</td>\n",
       "      <td>-0.00548</td>\n",
       "      <td>44.002901</td>\n",
       "      <td>-0.003984</td>\n",
       "      <td>0.124654</td>\n",
       "      <td>-1.590559</td>\n",
       "      <td>13.802036</td>\n",
       "      <td>-0.072830</td>\n",
       "      <td>0.021385</td>\n",
       "      <td>-0.004220</td>\n",
       "      <td>30.019521</td>\n",
       "    </tr>\n",
       "    <tr>\n",
       "      <th>std</th>\n",
       "      <td>920.306064</td>\n",
       "      <td>4.037703e+08</td>\n",
       "      <td>41.216203</td>\n",
       "      <td>13.404976</td>\n",
       "      <td>13.470281</td>\n",
       "      <td>51.603652</td>\n",
       "      <td>12.388740</td>\n",
       "      <td>1.462137</td>\n",
       "      <td>1.799562</td>\n",
       "      <td>0.99999</td>\n",
       "      <td>46.751132</td>\n",
       "      <td>13.127404</td>\n",
       "      <td>13.168867</td>\n",
       "      <td>61.430040</td>\n",
       "      <td>12.460549</td>\n",
       "      <td>1.738033</td>\n",
       "      <td>1.817031</td>\n",
       "      <td>0.999996</td>\n",
       "      <td>25.255847</td>\n",
       "    </tr>\n",
       "    <tr>\n",
       "      <th>min</th>\n",
       "      <td>146511.000000</td>\n",
       "      <td>6.414000e+03</td>\n",
       "      <td>0.377928</td>\n",
       "      <td>-250.587000</td>\n",
       "      <td>-126.079000</td>\n",
       "      <td>-840.987000</td>\n",
       "      <td>0.219629</td>\n",
       "      <td>-4.165380</td>\n",
       "      <td>-3.141580</td>\n",
       "      <td>-1.00000</td>\n",
       "      <td>0.472500</td>\n",
       "      <td>-233.730000</td>\n",
       "      <td>-145.651000</td>\n",
       "      <td>-655.396000</td>\n",
       "      <td>0.026651</td>\n",
       "      <td>-7.064790</td>\n",
       "      <td>-3.141580</td>\n",
       "      <td>-1.000000</td>\n",
       "      <td>2.000080</td>\n",
       "    </tr>\n",
       "    <tr>\n",
       "      <th>25%</th>\n",
       "      <td>147114.000000</td>\n",
       "      <td>2.023970e+08</td>\n",
       "      <td>8.458595</td>\n",
       "      <td>-5.233675</td>\n",
       "      <td>-5.276248</td>\n",
       "      <td>-15.859825</td>\n",
       "      <td>3.771172</td>\n",
       "      <td>-1.283883</td>\n",
       "      <td>-1.527030</td>\n",
       "      <td>-1.00000</td>\n",
       "      <td>11.055725</td>\n",
       "      <td>-4.794770</td>\n",
       "      <td>-4.605965</td>\n",
       "      <td>-22.036950</td>\n",
       "      <td>3.738103</td>\n",
       "      <td>-1.892287</td>\n",
       "      <td>-1.556925</td>\n",
       "      <td>-1.000000</td>\n",
       "      <td>12.445200</td>\n",
       "    </tr>\n",
       "    <tr>\n",
       "      <th>50%</th>\n",
       "      <td>147929.000000</td>\n",
       "      <td>3.902759e+08</td>\n",
       "      <td>21.717000</td>\n",
       "      <td>0.141339</td>\n",
       "      <td>0.099092</td>\n",
       "      <td>-0.312987</td>\n",
       "      <td>12.967800</td>\n",
       "      <td>-0.061178</td>\n",
       "      <td>0.034324</td>\n",
       "      <td>-1.00000</td>\n",
       "      <td>25.264600</td>\n",
       "      <td>-0.035638</td>\n",
       "      <td>0.083665</td>\n",
       "      <td>-0.690244</td>\n",
       "      <td>11.690950</td>\n",
       "      <td>-0.135911</td>\n",
       "      <td>0.026986</td>\n",
       "      <td>-1.000000</td>\n",
       "      <td>21.283100</td>\n",
       "    </tr>\n",
       "    <tr>\n",
       "      <th>75%</th>\n",
       "      <td>149011.000000</td>\n",
       "      <td>6.338891e+08</td>\n",
       "      <td>50.003350</td>\n",
       "      <td>5.714560</td>\n",
       "      <td>5.648087</td>\n",
       "      <td>13.212650</td>\n",
       "      <td>20.018925</td>\n",
       "      <td>1.144408</td>\n",
       "      <td>1.562355</td>\n",
       "      <td>1.00000</td>\n",
       "      <td>66.925525</td>\n",
       "      <td>4.819540</td>\n",
       "      <td>5.061860</td>\n",
       "      <td>19.005825</td>\n",
       "      <td>19.596400</td>\n",
       "      <td>1.768253</td>\n",
       "      <td>1.596737</td>\n",
       "      <td>1.000000</td>\n",
       "      <td>39.025050</td>\n",
       "    </tr>\n",
       "    <tr>\n",
       "      <th>max</th>\n",
       "      <td>149182.000000</td>\n",
       "      <td>1.791247e+09</td>\n",
       "      <td>850.602000</td>\n",
       "      <td>134.539000</td>\n",
       "      <td>147.467000</td>\n",
       "      <td>760.096000</td>\n",
       "      <td>265.578000</td>\n",
       "      <td>2.622970</td>\n",
       "      <td>3.141420</td>\n",
       "      <td>1.00000</td>\n",
       "      <td>948.375000</td>\n",
       "      <td>227.330000</td>\n",
       "      <td>166.283000</td>\n",
       "      <td>935.558000</td>\n",
       "      <td>281.654000</td>\n",
       "      <td>3.060550</td>\n",
       "      <td>3.141290</td>\n",
       "      <td>1.000000</td>\n",
       "      <td>109.999000</td>\n",
       "    </tr>\n",
       "  </tbody>\n",
       "</table>\n",
       "</div>"
      ],
      "text/plain": [
       "                 Run         Event             E1           px1    \n",
       "count  100000.000000  1.000000e+05  100000.000000  100000.000000  \\\n",
       "mean   147935.327230  4.957212e+08      36.436466       0.135897   \n",
       "std       920.306064  4.037703e+08      41.216203      13.404976   \n",
       "min    146511.000000  6.414000e+03       0.377928    -250.587000   \n",
       "25%    147114.000000  2.023970e+08       8.458595      -5.233675   \n",
       "50%    147929.000000  3.902759e+08      21.717000       0.141339   \n",
       "75%    149011.000000  6.338891e+08      50.003350       5.714560   \n",
       "max    149182.000000  1.791247e+09     850.602000     134.539000   \n",
       "\n",
       "                 py1            pz1            pt1           eta1   \n",
       "count  100000.000000  100000.000000  100000.000000  100000.000000  \\\n",
       "mean        0.182291      -1.508037      14.412167      -0.064095   \n",
       "std        13.470281      51.603652      12.388740       1.462137   \n",
       "min      -126.079000    -840.987000       0.219629      -4.165380   \n",
       "25%        -5.276248     -15.859825       3.771172      -1.283883   \n",
       "50%         0.099092      -0.312987      12.967800      -0.061178   \n",
       "75%         5.648087      13.212650      20.018925       1.144408   \n",
       "max       147.467000     760.096000     265.578000       2.622970   \n",
       "\n",
       "                phi1            Q1             E2            px2   \n",
       "count  100000.000000  100000.00000  100000.000000  100000.000000  \\\n",
       "mean        0.021614      -0.00548      44.002901      -0.003984   \n",
       "std         1.799562       0.99999      46.751132      13.127404   \n",
       "min        -3.141580      -1.00000       0.472500    -233.730000   \n",
       "25%        -1.527030      -1.00000      11.055725      -4.794770   \n",
       "50%         0.034324      -1.00000      25.264600      -0.035638   \n",
       "75%         1.562355       1.00000      66.925525       4.819540   \n",
       "max         3.141420       1.00000     948.375000     227.330000   \n",
       "\n",
       "                 py2            pz2            pt2           eta2   \n",
       "count  100000.000000  100000.000000  100000.000000  100000.000000  \\\n",
       "mean        0.124654      -1.590559      13.802036      -0.072830   \n",
       "std        13.168867      61.430040      12.460549       1.738033   \n",
       "min      -145.651000    -655.396000       0.026651      -7.064790   \n",
       "25%        -4.605965     -22.036950       3.738103      -1.892287   \n",
       "50%         0.083665      -0.690244      11.690950      -0.135911   \n",
       "75%         5.061860      19.005825      19.596400       1.768253   \n",
       "max       166.283000     935.558000     281.654000       3.060550   \n",
       "\n",
       "                phi2             Q2             M  \n",
       "count  100000.000000  100000.000000  99915.000000  \n",
       "mean        0.021385      -0.004220     30.019521  \n",
       "std         1.817031       0.999996     25.255847  \n",
       "min        -3.141580      -1.000000      2.000080  \n",
       "25%        -1.556925      -1.000000     12.445200  \n",
       "50%         0.026986      -1.000000     21.283100  \n",
       "75%         1.596737       1.000000     39.025050  \n",
       "max         3.141290       1.000000    109.999000  "
      ]
     },
     "execution_count": 5,
     "metadata": {},
     "output_type": "execute_result"
    }
   ],
   "source": [
    "data.describe()"
   ]
  },
  {
   "cell_type": "code",
   "execution_count": 6,
   "metadata": {},
   "outputs": [
    {
     "name": "stdout",
     "output_type": "stream",
     "text": [
      "<class 'pandas.core.frame.DataFrame'>\n",
      "RangeIndex: 100000 entries, 0 to 99999\n",
      "Data columns (total 19 columns):\n",
      " #   Column  Non-Null Count   Dtype  \n",
      "---  ------  --------------   -----  \n",
      " 0   Run     100000 non-null  int64  \n",
      " 1   Event   100000 non-null  int64  \n",
      " 2   E1      100000 non-null  float64\n",
      " 3   px1     100000 non-null  float64\n",
      " 4   py1     100000 non-null  float64\n",
      " 5   pz1     100000 non-null  float64\n",
      " 6   pt1     100000 non-null  float64\n",
      " 7   eta1    100000 non-null  float64\n",
      " 8   phi1    100000 non-null  float64\n",
      " 9   Q1      100000 non-null  int64  \n",
      " 10  E2      100000 non-null  float64\n",
      " 11  px2     100000 non-null  float64\n",
      " 12  py2     100000 non-null  float64\n",
      " 13  pz2     100000 non-null  float64\n",
      " 14  pt2     100000 non-null  float64\n",
      " 15  eta2    100000 non-null  float64\n",
      " 16  phi2    100000 non-null  float64\n",
      " 17  Q2      100000 non-null  int64  \n",
      " 18  M       99915 non-null   float64\n",
      "dtypes: float64(15), int64(4)\n",
      "memory usage: 14.5 MB\n"
     ]
    }
   ],
   "source": [
    "data.info()"
   ]
  },
  {
   "cell_type": "code",
   "execution_count": 7,
   "metadata": {},
   "outputs": [
    {
     "data": {
      "text/plain": [
       "Run      False\n",
       "Event    False\n",
       "E1       False\n",
       "px1      False\n",
       "py1      False\n",
       "pz1      False\n",
       "pt1      False\n",
       "eta1     False\n",
       "phi1     False\n",
       "Q1       False\n",
       "E2       False\n",
       "px2      False\n",
       "py2      False\n",
       "pz2      False\n",
       "pt2      False\n",
       "eta2     False\n",
       "phi2     False\n",
       "Q2       False\n",
       "M         True\n",
       "dtype: bool"
      ]
     },
     "execution_count": 7,
     "metadata": {},
     "output_type": "execute_result"
    }
   ],
   "source": [
    "missing_values = data.isna()\n",
    "missing_values.any()"
   ]
  },
  {
   "cell_type": "code",
   "execution_count": 8,
   "metadata": {},
   "outputs": [
    {
     "data": {
      "text/plain": [
       "Run       0\n",
       "Event     0\n",
       "E1        0\n",
       "px1       0\n",
       "py1       0\n",
       "pz1       0\n",
       "pt1       0\n",
       "eta1      0\n",
       "phi1      0\n",
       "Q1        0\n",
       "E2        0\n",
       "px2       0\n",
       "py2       0\n",
       "pz2       0\n",
       "pt2       0\n",
       "eta2      0\n",
       "phi2      0\n",
       "Q2        0\n",
       "M        85\n",
       "dtype: int64"
      ]
     },
     "execution_count": 8,
     "metadata": {},
     "output_type": "execute_result"
    }
   ],
   "source": [
    "missing_count = data.isna().sum()\n",
    "missing_count"
   ]
  },
  {
   "cell_type": "code",
   "execution_count": 9,
   "metadata": {},
   "outputs": [],
   "source": [
    "data = data.dropna()"
   ]
  },
  {
   "cell_type": "code",
   "execution_count": 10,
   "metadata": {},
   "outputs": [
    {
     "name": "stdout",
     "output_type": "stream",
     "text": [
      "<class 'pandas.core.frame.DataFrame'>\n",
      "Index: 99915 entries, 0 to 99999\n",
      "Data columns (total 19 columns):\n",
      " #   Column  Non-Null Count  Dtype  \n",
      "---  ------  --------------  -----  \n",
      " 0   Run     99915 non-null  int64  \n",
      " 1   Event   99915 non-null  int64  \n",
      " 2   E1      99915 non-null  float64\n",
      " 3   px1     99915 non-null  float64\n",
      " 4   py1     99915 non-null  float64\n",
      " 5   pz1     99915 non-null  float64\n",
      " 6   pt1     99915 non-null  float64\n",
      " 7   eta1    99915 non-null  float64\n",
      " 8   phi1    99915 non-null  float64\n",
      " 9   Q1      99915 non-null  int64  \n",
      " 10  E2      99915 non-null  float64\n",
      " 11  px2     99915 non-null  float64\n",
      " 12  py2     99915 non-null  float64\n",
      " 13  pz2     99915 non-null  float64\n",
      " 14  pt2     99915 non-null  float64\n",
      " 15  eta2    99915 non-null  float64\n",
      " 16  phi2    99915 non-null  float64\n",
      " 17  Q2      99915 non-null  int64  \n",
      " 18  M       99915 non-null  float64\n",
      "dtypes: float64(15), int64(4)\n",
      "memory usage: 15.2 MB\n"
     ]
    }
   ],
   "source": [
    "data.info()"
   ]
  },
  {
   "cell_type": "code",
   "execution_count": 11,
   "metadata": {},
   "outputs": [
    {
     "data": {
      "text/plain": [
       "(99915, 19)"
      ]
     },
     "execution_count": 11,
     "metadata": {},
     "output_type": "execute_result"
    }
   ],
   "source": [
    "data.shape"
   ]
  },
  {
   "cell_type": "code",
   "execution_count": 12,
   "metadata": {},
   "outputs": [
    {
     "data": {
      "image/png": "[encoded data removed]",
      "text/plain": [
       "<Figure size 640x480 with 1 Axes>"
      ]
     },
     "metadata": {},
     "output_type": "display_data"
    }
   ],
   "source": [
    "data.Run.value_counts().plot(kind='bar')\n",
    "plt.grid()\n",
    "plt.title('Run')\n",
    "plt.show()"
   ]
  },
  {
   "cell_type": "code",
   "execution_count": 13,
   "metadata": {},
   "outputs": [
    {
     "data": {
      "image/png": "[encoded data removed]",
      "text/plain": [
       "<Figure size 1000x600 with 1 Axes>"
      ]
     },
     "metadata": {},
     "output_type": "display_data"
    }
   ],
   "source": [
    "plt.figure(figsize=(10, 6))\n",
    "data.M.plot(kind='hist', bins=100)\n",
    "plt.title('M-distribution: Invariant mass of two electrons (GeV)')\n",
    "plt.grid()\n",
    "plt.show()"
   ]
  },
  {
   "cell_type": "code",
   "execution_count": 14,
   "metadata": {},
   "outputs": [],
   "source": [
    "X = data.drop(columns=['Run', 'Event', 'M'])\n",
    "y = data.M"
   ]
  },
  {
   "cell_type": "code",
   "execution_count": 15,
   "metadata": {},
   "outputs": [],
   "source": [
    "x_train, x_test, y_train, y_test = train_test_split(X, y, test_size=0.2 )"
   ]
  },
  {
   "cell_type": "code",
   "execution_count": 23,
   "metadata": {},
   "outputs": [],
   "source": [
    "scaler = StandardScaler()\n",
    "scaler.fit(x_train)\n",
    "x_train = scaler.transform(x_train)\n",
    "x_test = scaler.transform(x_test)"
   ]
  },
  {
   "cell_type": "code",
   "execution_count": 24,
   "metadata": {},
   "outputs": [],
   "source": [
    "model = Sequential([\n",
    "    Dense(units=16, activation='relu', name='l1'),\n",
    "    Dense(units=128, activation='relu', name='l2'),\n",
    "    Dense(units=64, activation='relu', name='l3'),\n",
    "    Dense(units=8, activation='relu', name='l4'),\n",
    "    Dense(units=1, activation='linear', name='l5' )\n",
    "])"
   ]
  },
  {
   "cell_type": "code",
   "execution_count": 25,
   "metadata": {},
   "outputs": [],
   "source": [
    "model.compile(loss=MeanAbsoluteError(), optimizer=Adam(learning_rate=0.01))"
   ]
  },
  {
   "cell_type": "code",
   "execution_count": 27,
   "metadata": {},
   "outputs": [
    {
     "name": "stdout",
     "output_type": "stream",
     "text": [
      "Epoch 1/30\n",
      "1249/1249 [==============================] - 11s 5ms/step - loss: 4.6636\n",
      "Epoch 2/30\n",
      "1249/1249 [==============================] - 8s 6ms/step - loss: 2.6967\n",
      "Epoch 3/30\n",
      "1249/1249 [==============================] - 8s 6ms/step - loss: 2.2708\n",
      "Epoch 4/30\n",
      "1249/1249 [==============================] - 7s 6ms/step - loss: 1.9389\n",
      "Epoch 5/30\n",
      "1249/1249 [==============================] - 8s 6ms/step - loss: 1.7372\n",
      "Epoch 6/30\n",
      "1249/1249 [==============================] - 8s 6ms/step - loss: 1.6669\n",
      "Epoch 7/30\n",
      "1249/1249 [==============================] - 8s 7ms/step - loss: 1.5072\n",
      "Epoch 8/30\n",
      "1249/1249 [==============================] - 7s 6ms/step - loss: 1.4537\n",
      "Epoch 9/30\n",
      "1249/1249 [==============================] - 7s 6ms/step - loss: 1.4187\n",
      "Epoch 10/30\n",
      "1249/1249 [==============================] - 7s 6ms/step - loss: 1.3688\n",
      "Epoch 11/30\n",
      "1249/1249 [==============================] - 7s 6ms/step - loss: 1.3006\n",
      "Epoch 12/30\n",
      "1249/1249 [==============================] - 7s 5ms/step - loss: 1.3010\n",
      "Epoch 13/30\n",
      "1249/1249 [==============================] - 7s 6ms/step - loss: 1.2430\n",
      "Epoch 14/30\n",
      "1249/1249 [==============================] - 7s 6ms/step - loss: 1.2085\n",
      "Epoch 15/30\n",
      "1249/1249 [==============================] - 7s 5ms/step - loss: 1.1991\n",
      "Epoch 16/30\n",
      "1249/1249 [==============================] - 8s 6ms/step - loss: 1.1530\n",
      "Epoch 17/30\n",
      "1249/1249 [==============================] - 8s 6ms/step - loss: 1.1753\n",
      "Epoch 18/30\n",
      "1249/1249 [==============================] - 7s 6ms/step - loss: 1.1530\n",
      "Epoch 19/30\n",
      "1249/1249 [==============================] - 6s 5ms/step - loss: 1.1009\n",
      "Epoch 20/30\n",
      "1249/1249 [==============================] - 7s 5ms/step - loss: 1.1208\n",
      "Epoch 21/30\n",
      "1249/1249 [==============================] - 7s 6ms/step - loss: 1.0929\n",
      "Epoch 22/30\n",
      "1249/1249 [==============================] - 7s 5ms/step - loss: 1.0936\n",
      "Epoch 23/30\n",
      "1249/1249 [==============================] - 7s 5ms/step - loss: 1.0535\n",
      "Epoch 24/30\n",
      "1249/1249 [==============================] - 8s 6ms/step - loss: 1.0503\n",
      "Epoch 25/30\n",
      "1249/1249 [==============================] - 7s 6ms/step - loss: 1.0347\n",
      "Epoch 26/30\n",
      "1249/1249 [==============================] - 7s 6ms/step - loss: 1.0392\n",
      "Epoch 27/30\n",
      "1249/1249 [==============================] - 7s 6ms/step - loss: 1.0015\n",
      "Epoch 28/30\n",
      "1249/1249 [==============================] - 8s 6ms/step - loss: 0.9982\n",
      "Epoch 29/30\n",
      "1249/1249 [==============================] - 8s 6ms/step - loss: 0.9841\n",
      "Epoch 30/30\n",
      "1249/1249 [==============================] - 8s 6ms/step - loss: 0.9895\n"
     ]
    }
   ],
   "source": [
    "history = model.fit(x_train, y_train, epochs=30, batch_size=64)"
   ]
  },
  {
   "cell_type": "code",
   "execution_count": 28,
   "metadata": {},
   "outputs": [
    {
     "name": "stdout",
     "output_type": "stream",
     "text": [
      "Model: \"sequential_2\"\n",
      "_________________________________________________________________\n",
      " Layer (type)                Output Shape              Param #   \n",
      "=================================================================\n",
      " l1 (Dense)                  (None, 16)                272       \n",
      "                                                                 \n",
      " l2 (Dense)                  (None, 128)               2176      \n",
      "                                                                 \n",
      " l3 (Dense)                  (None, 64)                8256      \n",
      "                                                                 \n",
      " l4 (Dense)                  (None, 8)                 520       \n",
      "                                                                 \n",
      " l5 (Dense)                  (None, 1)                 9         \n",
      "                                                                 \n",
      "=================================================================\n",
      "Total params: 11233 (43.88 KB)\n",
      "Trainable params: 11233 (43.88 KB)\n",
      "Non-trainable params: 0 (0.00 Byte)\n",
      "_________________________________________________________________\n"
     ]
    }
   ],
   "source": [
    "model.summary()"
   ]
  },
  {
   "cell_type": "code",
   "execution_count": 29,
   "metadata": {},
   "outputs": [
    {
     "data": {
      "image/png": "[encoded data removed]",
      "text/plain": [
       "<Figure size 1000x600 with 1 Axes>"
      ]
     },
     "metadata": {},
     "output_type": "display_data"
    }
   ],
   "source": [
    "train_loss = history.history['loss']\n",
    "epochs = history.epoch\n",
    "plt.figure(figsize=(10, 6))\n",
    "plt.plot(epochs, train_loss)\n",
    "plt.xlabel('epochs')\n",
    "plt.ylabel('loss (MAE)')\n",
    "plt.xticks(epochs)\n",
    "plt.grid()\n",
    "plt.title('loss vs epochs')\n",
    "plt.show()"
   ]
  },
  {
   "cell_type": "code",
   "execution_count": 30,
   "metadata": {},
   "outputs": [
    {
     "name": "stdout",
     "output_type": "stream",
     "text": [
      "2498/2498 [==============================] - 11s 4ms/step\n"
     ]
    }
   ],
   "source": [
    "y_pred_t = model.predict(x_train)\n",
    "loss_t = mean_absolute_error(y_train, y_pred_t)"
   ]
  },
  {
   "cell_type": "code",
   "execution_count": 31,
   "metadata": {},
   "outputs": [
    {
     "name": "stdout",
     "output_type": "stream",
     "text": [
      "625/625 [==============================] - 3s 5ms/step\n",
      "MAE train 0.8339821618721629\n",
      "MAE test 0.8495527357273762\n"
     ]
    }
   ],
   "source": [
    "y_pred = model.predict(x_test)\n",
    "loss = mean_absolute_error(y_test, y_pred)\n",
    "print(f'MAE train {loss_t}')\n",
    "print(f'MAE test {loss}')"
   ]
  },
  {
   "cell_type": "code",
   "execution_count": 32,
   "metadata": {},
   "outputs": [],
   "source": [
    "import gradio as gr"
   ]
  },
  {
   "cell_type": "code",
   "execution_count": 60,
   "metadata": {},
   "outputs": [],
   "source": [
    "def get_inputs(E1, px1, py1, pz1, pt1, eta1, phi1, Q1, E2, px2, py2, pz2, pt2, eta2, phi2, Q2):\n",
    "    value = np.array([[E1, px1, py1, pz1, pt1, eta1, phi1, Q1, E2, px2, py2, pz2, pt2, eta2, phi2, Q2]])\n",
    "    # value = value.reshape(1, -1)\n",
    "    value_scaled = scaler.transform(value)\n",
    "    pred = model.predict(value_scaled)\n",
    "    return pred"
   ]
  },
  {
   "cell_type": "code",
   "execution_count": 61,
   "metadata": {},
   "outputs": [
    {
     "data": {
      "text/html": [
       "<div>\n",
       "<style scoped>\n",
       "    .dataframe tbody tr th:only-of-type {\n",
       "        vertical-align: middle;\n",
       "    }\n",
       "\n",
       "    .dataframe tbody tr th {\n",
       "        vertical-align: top;\n",
       "    }\n",
       "\n",
       "    .dataframe thead th {\n",
       "        text-align: right;\n",
       "    }\n",
       "</style>\n",
       "<table border=\"1\" class=\"dataframe\">\n",
       "  <thead>\n",
       "    <tr style=\"text-align: right;\">\n",
       "      <th></th>\n",
       "      <th>E1</th>\n",
       "      <th>px1</th>\n",
       "      <th>py1</th>\n",
       "      <th>pz1</th>\n",
       "      <th>pt1</th>\n",
       "      <th>eta1</th>\n",
       "      <th>phi1</th>\n",
       "      <th>Q1</th>\n",
       "      <th>E2</th>\n",
       "      <th>px2</th>\n",
       "      <th>py2</th>\n",
       "      <th>pz2</th>\n",
       "      <th>pt2</th>\n",
       "      <th>eta2</th>\n",
       "      <th>phi2</th>\n",
       "      <th>Q2</th>\n",
       "    </tr>\n",
       "  </thead>\n",
       "  <tbody>\n",
       "    <tr>\n",
       "      <th>0</th>\n",
       "      <td>58.71410</td>\n",
       "      <td>-7.31132</td>\n",
       "      <td>10.531000</td>\n",
       "      <td>-57.29740</td>\n",
       "      <td>12.82020</td>\n",
       "      <td>-2.20267</td>\n",
       "      <td>2.17766</td>\n",
       "      <td>1</td>\n",
       "      <td>11.2836</td>\n",
       "      <td>-1.032340</td>\n",
       "      <td>-1.88066</td>\n",
       "      <td>-11.0778</td>\n",
       "      <td>2.14537</td>\n",
       "      <td>-2.344030</td>\n",
       "      <td>-2.072810</td>\n",
       "      <td>-1</td>\n",
       "    </tr>\n",
       "    <tr>\n",
       "      <th>1</th>\n",
       "      <td>6.61188</td>\n",
       "      <td>-4.15213</td>\n",
       "      <td>-0.579855</td>\n",
       "      <td>-5.11278</td>\n",
       "      <td>4.19242</td>\n",
       "      <td>-1.02842</td>\n",
       "      <td>-3.00284</td>\n",
       "      <td>-1</td>\n",
       "      <td>17.1492</td>\n",
       "      <td>-11.713500</td>\n",
       "      <td>5.04474</td>\n",
       "      <td>11.4647</td>\n",
       "      <td>12.75360</td>\n",
       "      <td>0.808077</td>\n",
       "      <td>2.734920</td>\n",
       "      <td>1</td>\n",
       "    </tr>\n",
       "    <tr>\n",
       "      <th>2</th>\n",
       "      <td>25.54190</td>\n",
       "      <td>-11.48090</td>\n",
       "      <td>2.041680</td>\n",
       "      <td>22.72460</td>\n",
       "      <td>11.66100</td>\n",
       "      <td>1.42048</td>\n",
       "      <td>2.96560</td>\n",
       "      <td>1</td>\n",
       "      <td>15.8203</td>\n",
       "      <td>-1.472800</td>\n",
       "      <td>2.25895</td>\n",
       "      <td>-15.5888</td>\n",
       "      <td>2.69667</td>\n",
       "      <td>-2.455080</td>\n",
       "      <td>2.148570</td>\n",
       "      <td>1</td>\n",
       "    </tr>\n",
       "    <tr>\n",
       "      <th>3</th>\n",
       "      <td>65.39590</td>\n",
       "      <td>7.51214</td>\n",
       "      <td>11.887100</td>\n",
       "      <td>63.86620</td>\n",
       "      <td>14.06190</td>\n",
       "      <td>2.21838</td>\n",
       "      <td>1.00721</td>\n",
       "      <td>1</td>\n",
       "      <td>25.1273</td>\n",
       "      <td>4.087860</td>\n",
       "      <td>2.59641</td>\n",
       "      <td>24.6563</td>\n",
       "      <td>4.84272</td>\n",
       "      <td>2.330210</td>\n",
       "      <td>0.565865</td>\n",
       "      <td>-1</td>\n",
       "    </tr>\n",
       "    <tr>\n",
       "      <th>4</th>\n",
       "      <td>61.45040</td>\n",
       "      <td>2.95284</td>\n",
       "      <td>-14.622700</td>\n",
       "      <td>-59.61210</td>\n",
       "      <td>14.91790</td>\n",
       "      <td>-2.09375</td>\n",
       "      <td>-1.37154</td>\n",
       "      <td>-1</td>\n",
       "      <td>13.8871</td>\n",
       "      <td>-0.277757</td>\n",
       "      <td>-2.42560</td>\n",
       "      <td>-13.6708</td>\n",
       "      <td>2.44145</td>\n",
       "      <td>-2.423700</td>\n",
       "      <td>-1.684810</td>\n",
       "      <td>-1</td>\n",
       "    </tr>\n",
       "  </tbody>\n",
       "</table>\n",
       "</div>"
      ],
      "text/plain": [
       "         E1      px1         py1       pz1       pt1     eta1     phi1  Q1   \n",
       "0  58.71410  -7.31132  10.531000 -57.29740  12.82020 -2.20267  2.17766   1  \\\n",
       "1   6.61188  -4.15213  -0.579855  -5.11278   4.19242 -1.02842 -3.00284  -1   \n",
       "2  25.54190 -11.48090   2.041680  22.72460  11.66100  1.42048  2.96560   1   \n",
       "3  65.39590   7.51214  11.887100  63.86620  14.06190  2.21838  1.00721   1   \n",
       "4  61.45040   2.95284 -14.622700 -59.61210  14.91790 -2.09375 -1.37154  -1   \n",
       "\n",
       "        E2        px2      py2      pz2       pt2      eta2      phi2  Q2  \n",
       "0  11.2836  -1.032340 -1.88066 -11.0778   2.14537 -2.344030 -2.072810  -1  \n",
       "1  17.1492 -11.713500  5.04474  11.4647  12.75360  0.808077  2.734920   1  \n",
       "2  15.8203  -1.472800  2.25895 -15.5888   2.69667 -2.455080  2.148570   1  \n",
       "3  25.1273   4.087860  2.59641  24.6563   4.84272  2.330210  0.565865  -1  \n",
       "4  13.8871  -0.277757 -2.42560 -13.6708   2.44145 -2.423700 -1.684810  -1  "
      ]
     },
     "execution_count": 61,
     "metadata": {},
     "output_type": "execute_result"
    }
   ],
   "source": [
    "X.head()"
   ]
  },
  {
   "cell_type": "code",
   "execution_count": null,
   "metadata": {},
   "outputs": [
    {
     "name": "stdout",
     "output_type": "stream",
     "text": [
      "Running on local URL:  http://127.0.0.1:7866\n",
      "\n",
      "To create a public link, set `share=True` in `launch()`.\n"
     ]
    },
    {
     "data": {
      "text/html": [
       "<div><iframe src=\"http://127.0.0.1:7866/\" width=\"100%\" height=\"500\" allow=\"autoplay; camera; microphone; clipboard-read; clipboard-write;\" frameborder=\"0\" allowfullscreen></iframe></div>"
      ],
      "text/plain": [
       "<IPython.core.display.HTML object>"
      ]
     },
     "metadata": {},
     "output_type": "display_data"
    },
    {
     "data": {
      "text/plain": []
     },
     "execution_count": 62,
     "metadata": {},
     "output_type": "execute_result"
    },
    {
     "name": "stdout",
     "output_type": "stream",
     "text": [
      "1/1 [==============================] - 0s 213ms/step\n",
      "1/1 [==============================] - 1s 527ms/step\n"
     ]
    }
   ],
   "source": [
    "demo = gr.Interface(\n",
    "    fn=get_inputs, \n",
    "    inputs=['number', 'number', 'number', 'number', 'number', 'number', 'number', 'number', 'number', 'number', 'number', 'number', 'number', 'number', 'number', 'number' ], \n",
    "    outputs='number'\n",
    "    )\n",
    "demo.launch()"
   ]
  },
  {
   "cell_type": "code",
   "execution_count": 69,
   "metadata": {},
   "outputs": [
    {
     "data": {
      "text/plain": [
       "10.1477"
      ]
     },
     "execution_count": 69,
     "metadata": {},
     "output_type": "execute_result"
    }
   ],
   "source": [
    "y_train[100]"
   ]
  },
  {
   "cell_type": "code",
   "execution_count": 70,
   "metadata": {},
   "outputs": [
    {
     "data": {
      "text/plain": [
       "array([39.087833], dtype=float32)"
      ]
     },
     "execution_count": 70,
     "metadata": {},
     "output_type": "execute_result"
    }
   ],
   "source": [
    "y_pred_t[100]"
   ]
  },
  {
   "cell_type": "code",
   "execution_count": null,
   "metadata": {},
   "outputs": [],
   "source": []
  },
  {
   "cell_type": "code",
   "execution_count": null,
   "metadata": {},
   "outputs": [],
   "source": []
  }
 ],
 "metadata": {
  "kernelspec": {
   "display_name": "Python 3",
   "language": "python",
   "name": "python3"
  },
  "language_info": {
   "codemirror_mode": {
    "name": "ipython",
    "version": 3
   },
   "file_extension": ".py",
   "mimetype": "text/x-python",
   "name": "python",
   "nbconvert_exporter": "python",
   "pygments_lexer": "ipython3",
   "version": "3.10.0"
  },
  "orig_nbformat": 4
 },
 "nbformat": 4,
 "nbformat_minor": 2
}
